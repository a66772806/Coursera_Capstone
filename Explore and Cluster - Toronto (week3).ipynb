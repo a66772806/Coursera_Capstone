{
 "cells": [
  {
   "cell_type": "code",
   "execution_count": 2,
   "metadata": {},
   "outputs": [],
   "source": [
    "import requests\n",
    "import lxml.html as lh\n",
    "import pandas as pd\n",
    "import numpy as np\n",
    "from bs4 import BeautifulSoup"
   ]
  },
  {
   "cell_type": "markdown",
   "metadata": {},
   "source": [
    "<b> 1. Extract HTML elements from page to here for preparation, use them to create three lists, each will represent a column in the dataframe</b>"
   ]
  },
  {
   "cell_type": "code",
   "execution_count": 209,
   "metadata": {},
   "outputs": [],
   "source": [
    "url = \"https://en.wikipedia.org/wiki/List_of_postal_codes_of_Canada:_M\"\n",
    "page = requests.get(url)\n",
    "soup = BeautifulSoup(page.content,'html.parser')\n",
    "tb = soup.find('table',class_=\"wikitable sortable\")\n",
    "#rows = tb.find_all('tr')\n",
    "cols= tb.find_all('td')\n",
    "\n",
    "#====================create first version of each column=================\n",
    "i=0;\n",
    "Postcode=[]\n",
    "Borough=[]\n",
    "Neighbourhood=[]\n",
    "while i < len(cols):\n",
    "    Postcode.append(cols[i])\n",
    "    Borough.append(cols[i+1])\n",
    "    Neighbourhood.append(cols[i+2])\n",
    "    i=i+3\n",
    "\n",
    "#===========================clean the lists==================================\n",
    "Postcode_fin=[]\n",
    "Borough_fin=[]\n",
    "Neighbourhood_fin=[]\n",
    "#scan thru the lines in list Postcode, only keep the text in each line \n",
    "for code in Postcode:\n",
    "    Postcode_fin.append(code.get_text())\n",
    "\n",
    "for code in Borough:\n",
    "    Borough_fin.append(code.get_text())\n",
    "\n",
    "for code in Neighbourhood:\n",
    "    line=code.get_text()\n",
    "    Neighbourhood_fin.append(line.rsplit('\\n')[0])\n",
    "#================put together the dataframe ================================\n",
    "dict = {\"Postcode\":Postcode_fin,\"Borough\":Borough_fin,\"Neighbourhood\": Neighbourhood_fin}\n",
    "df = pd.DataFrame(dict)"
   ]
  },
  {
   "cell_type": "markdown",
   "metadata": {},
   "source": [
    "<b> 2. Clean the data </b>"
   ]
  },
  {
   "cell_type": "code",
   "execution_count": 210,
   "metadata": {},
   "outputs": [],
   "source": [
    "#=================look for row location and use df.drop to remove them =====================\n",
    "i=0\n",
    "idx=[]\n",
    "for b in df['Borough']=='Not assigned':\n",
    "    if b==True:\n",
    "        idx.append(i)\n",
    "    i=i+1\n",
    "df.drop(index=idx, axis = 0, inplace = True)\n",
    "\n",
    "#=================look for \"Not assigned \" in \"Neighbourhood\" and assign them as the \"Borough\" value=====================\n",
    "i=0\n",
    "idx=[]\n",
    "for b in df['Neighbourhood']==\"Not assigned\":\n",
    "    if b==True:\n",
    "        df.replace(df.iloc[i,2],df.iloc[i,1],inplace=True)\n",
    "    i=i+1\n",
    "\n",
    "#===============look for duplicated value in column \"Postcode\"====================\n",
    "df.sort_values(by=['Postcode'],inplace=True)\n",
    "df.reset_index(drop=True, inplace = True)\n",
    "df_fin=pd.DataFrame({'Postcode':[],'Borough':[],'Neighbourhood':[]})\n",
    "df_fin.reset_index(drop=True,inplace = True)\n",
    "df_fin.append(df.iloc[[0,1]],sort = False)\n",
    "#for i in range(1, len(df)):\n",
    "i =0\n",
    "b=i+1\n",
    "while b<len(df['Postcode']): \n",
    "    if df.iloc[i,0]==df.iloc[b,0]:\n",
    "        df.iloc[i,2]=df.iloc[i,2]+\", \" + df.iloc[b,2]\n",
    "        df.drop([b,b],inplace =True)\n",
    "        df.reset_index(drop=True, inplace = True)\n",
    "    i=i+1\n",
    "    b=i+1"
   ]
  },
  {
   "cell_type": "markdown",
   "metadata": {},
   "source": [
    "<b> print the number of rows in the df </b>"
   ]
  },
  {
   "cell_type": "code",
   "execution_count": 208,
   "metadata": {},
   "outputs": [
    {
     "data": {
      "text/plain": [
       "(210, 3)"
      ]
     },
     "execution_count": 208,
     "metadata": {},
     "output_type": "execute_result"
    }
   ],
   "source": [
    "df.shape"
   ]
  },
  {
   "cell_type": "code",
   "execution_count": null,
   "metadata": {},
   "outputs": [],
   "source": []
  }
 ],
 "metadata": {
  "kernelspec": {
   "display_name": "Python 3.6",
   "language": "python",
   "name": "python3"
  },
  "language_info": {
   "codemirror_mode": {
    "name": "ipython",
    "version": 3
   },
   "file_extension": ".py",
   "mimetype": "text/x-python",
   "name": "python",
   "nbconvert_exporter": "python",
   "pygments_lexer": "ipython3",
   "version": "3.6.9"
  }
 },
 "nbformat": 4,
 "nbformat_minor": 1
}
